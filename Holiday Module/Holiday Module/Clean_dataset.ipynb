{
  "nbformat": 4,
  "nbformat_minor": 0,
  "metadata": {
    "kernelspec": {
      "display_name": "Python 3",
      "language": "python",
      "name": "python3"
    },
    "language_info": {
      "codemirror_mode": {
        "name": "ipython",
        "version": 3
      },
      "file_extension": ".py",
      "mimetype": "text/x-python",
      "name": "python",
      "nbconvert_exporter": "python",
      "pygments_lexer": "ipython3",
      "version": "3.6.5"
    },
    "colab": {
      "name": "Clean dataset.ipynb",
      "version": "0.3.2",
      "provenance": [],
      "collapsed_sections": []
    }
  },
  "cells": [
    {
      "cell_type": "markdown",
      "metadata": {
        "id": "rD8p2HVZcV-B",
        "colab_type": "text"
      },
      "source": [
        "# Clean dataset\n",
        "\n",
        "In the previous notebook, we used Web Scraping to collect information from Wikipedia webpages and combine them together in a .CSV file named 'Dataset'. However, this dataset is not available in the most useful format and must be cleaned before any analysis could be performed. Such a scenario is expected to occur as the web pages aren't always designed to make extracting data easy.\n",
        "\n",
        "Here, we'll understand the dataset columns and try to remove any unnecessary strings and values that bring no value to the dataset."
      ]
    },
    {
      "cell_type": "markdown",
      "metadata": {
        "id": "LUlLUrabcV-H",
        "colab_type": "text"
      },
      "source": [
        "## Import libraries and read CSV file\n",
        "\n",
        "We'll first import the Pandas library which enables us to manipulate and work with the dataset. Then, we'll simply read the dataset file we created."
      ]
    },
    {
      "cell_type": "code",
      "metadata": {
        "scrolled": true,
        "id": "9QIwBeylcV-L",
        "colab_type": "code",
        "colab": {}
      },
      "source": [
        "import re\n",
        "import numpy as np\n",
        "import pandas as pd\n",
        "\n",
        "dataset = pd.read_csv(\"Dataset.csv\")\n",
        "dataset.head(5)"
      ],
      "execution_count": 0,
      "outputs": []
    },
    {
      "cell_type": "markdown",
      "metadata": {
        "id": "dAQNFsQgcV-W",
        "colab_type": "text"
      },
      "source": [
        "## Replace the headings\n",
        "\n",
        "We first begin by replacing the headings of the columns such that they reflect the data in them better. We change the text for the first column to 'Country', the third column to 'Percentage of World Population' and fourth column to 'Total Area (km2)'."
      ]
    },
    {
      "cell_type": "code",
      "metadata": {
        "scrolled": true,
        "id": "3GPnqFBhcV-Z",
        "colab_type": "code",
        "colab": {}
      },
      "source": [
        "# Your code goes here"
      ],
      "execution_count": 0,
      "outputs": []
    },
    {
      "cell_type": "markdown",
      "metadata": {
        "id": "7FzVkACTcV-g",
        "colab_type": "text"
      },
      "source": [
        "## Analysing the dataset\n",
        "\n",
        "We see that almost all columns have cells which have data inside parentheses and square brackets which is not required. Thus, we can first remove all paranthesis, square brackets and the content inside them."
      ]
    },
    {
      "cell_type": "code",
      "metadata": {
        "scrolled": true,
        "id": "Vg_7EOuKcV-i",
        "colab_type": "code",
        "colab": {}
      },
      "source": [
        "# Your code goes here"
      ],
      "execution_count": 0,
      "outputs": []
    },
    {
      "cell_type": "markdown",
      "metadata": {
        "id": "WWw3vk0_cV-o",
        "colab_type": "text"
      },
      "source": [
        "Next, we do not need '%' sign in either column 3 or 5, thus, we can strip the cells of it."
      ]
    },
    {
      "cell_type": "code",
      "metadata": {
        "scrolled": true,
        "id": "3OapACAtcV-q",
        "colab_type": "code",
        "colab": {}
      },
      "source": [
        "# Your code goes here"
      ],
      "execution_count": 0,
      "outputs": []
    },
    {
      "cell_type": "markdown",
      "metadata": {
        "id": "ov4cW4DlcV-x",
        "colab_type": "text"
      },
      "source": [
        "Next, we remove commas from Population column."
      ]
    },
    {
      "cell_type": "code",
      "metadata": {
        "scrolled": true,
        "id": "Qakq9X08cV-0",
        "colab_type": "code",
        "colab": {}
      },
      "source": [
        "# Your code goes here"
      ],
      "execution_count": 0,
      "outputs": []
    },
    {
      "cell_type": "markdown",
      "metadata": {
        "id": "m8mZ4OSCcV-6",
        "colab_type": "text"
      },
      "source": [
        "Now, we will explore the area column. Initially, we see that the information is represented in two units: sq mi and km2. We need to convert all values to km2.\n",
        "\n",
        "The formula to convert 'sq mi' to km2 is to multiply the value by 2.58999.\n",
        "\n",
        "First, we check if the cell has the units as 'sq mi', then we multiply it with 2.589999, convert it to integer and save it back to the cell else we simply convert it into integer. Before this, on taking a closer look at the values, some cells have range of areas and as a result we need to split the data at '-' and then take the first value to continue further."
      ]
    },
    {
      "cell_type": "code",
      "metadata": {
        "scrolled": true,
        "id": "ZI4QzF51cV-8",
        "colab_type": "code",
        "colab": {}
      },
      "source": [
        "# Your code goes here"
      ],
      "execution_count": 0,
      "outputs": []
    },
    {
      "cell_type": "markdown",
      "metadata": {
        "id": "6B_9BQkHcV_C",
        "colab_type": "text"
      },
      "source": [
        "Let's analyse the 'Percentage Water' column further. \n",
        "For Algeria, Afghanistan, and some other countries, the value is negligible. Hence, in order to retain data and not drop these rows, we will mark these cells with 0.0.\n",
        "Chile has the character 'b' in the end which needs to be removed.\n",
        "For the columns where the value is more than 100, the actual values were missing and other content has been read instead. Thus, we must remove such rows due to lack of information."
      ]
    },
    {
      "cell_type": "code",
      "metadata": {
        "scrolled": true,
        "id": "i6BBHtBHcV_E",
        "colab_type": "code",
        "colab": {}
      },
      "source": [
        "# Your code goes here"
      ],
      "execution_count": 0,
      "outputs": []
    },
    {
      "cell_type": "markdown",
      "metadata": {
        "id": "NjQdUxmTcV_K",
        "colab_type": "text"
      },
      "source": [
        "Total GDP includes the values in the form of trillions, billions and millions. We can remove '$' and convert the words to numbers."
      ]
    },
    {
      "cell_type": "code",
      "metadata": {
        "scrolled": true,
        "id": "O9Q00lutcV_L",
        "colab_type": "code",
        "colab": {}
      },
      "source": [
        "#Use this code\n",
        "dataset['Total Nominal GDP'] = dataset['Total Nominal GDP'].str.replace('$', '')\n",
        "\n",
        "for x in range(len(dataset['Total Nominal GDP'])):\n",
        "    gdp = dataset.iloc[x]['Total Nominal GDP']\n",
        "    if ('trillion' in dataset.iloc[x]['Total Nominal GDP']):\n",
        "        gdp = re.sub(r'[^0-9.]+', '', gdp)\n",
        "        gdp = int(float(gdp) * 1000000000000)\n",
        "    elif ('billion' in dataset.iloc[x]['Total Nominal GDP']):\n",
        "        gdp = re.sub(r'[^0-9.]+', '', gdp)\n",
        "        gdp = int(float(gdp) * 1000000000)\n",
        "    elif ('million' in dataset.iloc[x]['Total Nominal GDP']):\n",
        "        gdp = re.sub(r'[^0-9.]+', '', gdp)\n",
        "        gdp = int(float(gdp) * 1000000)\n",
        "    else:\n",
        "        gdp = int(re.sub(r'[^0-9.]+', '', gdp))\n",
        "    dataset.iloc[x]['Total Nominal GDP'] = gdp"
      ],
      "execution_count": 0,
      "outputs": []
    },
    {
      "cell_type": "markdown",
      "metadata": {
        "id": "crcxkdNFcV_S",
        "colab_type": "text"
      },
      "source": [
        "We can remove the '$' sign as well as comma from the Per Capita GDP as well."
      ]
    },
    {
      "cell_type": "code",
      "metadata": {
        "scrolled": true,
        "id": "ZqrUynjxcV_T",
        "colab_type": "code",
        "colab": {}
      },
      "source": [
        "#Use this code\n",
        "dataset['Per Capita GDP'] = dataset['Per Capita GDP'].str.replace(r'[^0-9.]+', '')\n",
        "dataset.head(10)"
      ],
      "execution_count": 0,
      "outputs": []
    },
    {
      "cell_type": "code",
      "metadata": {
        "scrolled": true,
        "id": "6hQTQUMMcV_Z",
        "colab_type": "code",
        "colab": {}
      },
      "source": [
        "#Use this code\n",
        "dataset.to_csv(\"Final_dataset.csv\", index = False)"
      ],
      "execution_count": 0,
      "outputs": []
    },
    {
      "cell_type": "markdown",
      "metadata": {
        "id": "C6A2CvHmcV_e",
        "colab_type": "text"
      },
      "source": [
        "## Conclusion\n",
        "\n",
        "We have iterated through all columns of the dataset and removed unnecesaary characters, and unified all data into a common format. Each column presented its own set of difficulties that had to be tackled with.\n",
        "The final dataset is ready which we can use for further analysis."
      ]
    }
  ]
}