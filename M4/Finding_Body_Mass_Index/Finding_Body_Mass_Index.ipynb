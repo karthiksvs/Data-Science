{
  "nbformat": 4,
  "nbformat_minor": 0,
  "metadata": {
    "colab": {
      "name": "Finding Body Mass Index.ipynb",
      "version": "0.3.2",
      "provenance": []
    },
    "kernelspec": {
      "name": "python3",
      "display_name": "Python 3"
    }
  },
  "cells": [
    {
      "cell_type": "markdown",
      "metadata": {
        "id": "oE6kGW9Rc4qi",
        "colab_type": "text"
      },
      "source": [
        "#**Finding Body Mass Index (BMI)**\n",
        "\n",
        "Human Height and Weight are mostly hereditable, but lifestyles, diet, health and environmental factors also play a role in determining individual's physical characteristics. The dataset below contains 200 synthetic records of human heights and weights of 18 years old children. These data were simulated based on a 1993 by a Growth Survey of 200 children from birth to 18 years of age recruited from Maternal and Child Health Centres (MCHC) and schools and were used to develop Hong Kong's current growth charts for weight, height, weight-for-age, weight-for-height and body mass index (BMI). \n",
        "\n",
        "In this assesment you will: \n",
        "\n",
        "1. Scrape Wikipedia to obtain information \n",
        "2. Use pandas to represent the dataset\n",
        "3. Need to answer the questions in the end of the assignment starting from section 3.2\n",
        "\n",
        "Use this link to get the Metric BMI formula : https://www.thecalculatorsite.com/articles/health/bmi-formula-for-bmi-calculations.php"
      ]
    },
    {
      "cell_type": "markdown",
      "metadata": {
        "id": "Njg2krTAyLcf",
        "colab_type": "text"
      },
      "source": [
        "Fill your roll Number/Name here : \n"
      ]
    },
    {
      "cell_type": "code",
      "metadata": {
        "id": "eFbAzKwo2rFR",
        "colab_type": "code",
        "colab": {}
      },
      "source": [
        "#Use this space for imports."
      ],
      "execution_count": 0,
      "outputs": []
    },
    {
      "cell_type": "markdown",
      "metadata": {
        "id": "Qz3H44Hwc-95",
        "colab_type": "text"
      },
      "source": [
        "**1. Fetch the Data from the link**\n",
        "\n",
        "Here is the website link : http://wiki.stat.ucla.edu/socr/index.php/SOCR_Data_Dinov_020108_HeightsWeights"
      ]
    },
    {
      "cell_type": "code",
      "metadata": {
        "id": "qaUAZJs0dPDw",
        "colab_type": "code",
        "colab": {}
      },
      "source": [
        "#Your code goes here."
      ],
      "execution_count": 0,
      "outputs": []
    },
    {
      "cell_type": "markdown",
      "metadata": {
        "id": "1f2BGXjVdR5_",
        "colab_type": "text"
      },
      "source": [
        "**2. Extract tabular data from the web content**\n",
        "\n",
        "Use beautiful soup to extract the information, store them information in variable *tables*"
      ]
    },
    {
      "cell_type": "code",
      "metadata": {
        "id": "9e9uftxxdrp3",
        "colab_type": "code",
        "colab": {}
      },
      "source": [
        "#Your code goes here."
      ],
      "execution_count": 0,
      "outputs": []
    },
    {
      "cell_type": "markdown",
      "metadata": {
        "id": "ewidVrNEeHfx",
        "colab_type": "text"
      },
      "source": [
        "**3.1 Creating Dataframe**\n",
        "\n",
        "After extracting, cleaning the information from the webpage, create DataFrame and store it in variable as *df_heights_weights* which has 3 columns naming index, heights, weights.\n"
      ]
    },
    {
      "cell_type": "code",
      "metadata": {
        "id": "OwoUMVWEedsw",
        "colab_type": "code",
        "colab": {}
      },
      "source": [
        "#Your code goes here."
      ],
      "execution_count": 0,
      "outputs": []
    },
    {
      "cell_type": "markdown",
      "metadata": {
        "id": "FPCAMLsterNc",
        "colab_type": "text"
      },
      "source": [
        "**3.2 Find the maximum height in the dataframe**"
      ]
    },
    {
      "cell_type": "code",
      "metadata": {
        "id": "e5xHjWpVf1oC",
        "colab_type": "code",
        "colab": {}
      },
      "source": [
        "#Your code goes here."
      ],
      "execution_count": 0,
      "outputs": []
    },
    {
      "cell_type": "markdown",
      "metadata": {
        "id": "8x6z2onke-3C",
        "colab_type": "text"
      },
      "source": [
        "**3.3 Find the maximum weight in the dataframe**"
      ]
    },
    {
      "cell_type": "code",
      "metadata": {
        "id": "ps8zc6jpf28L",
        "colab_type": "code",
        "colab": {}
      },
      "source": [
        "#Your code goes here."
      ],
      "execution_count": 0,
      "outputs": []
    },
    {
      "cell_type": "markdown",
      "metadata": {
        "id": "5VmNuG6-fkAh",
        "colab_type": "text"
      },
      "source": [
        "**3.4 Plot the height to weight for first 15 entries, after sorting the data based upon the weights**"
      ]
    },
    {
      "cell_type": "code",
      "metadata": {
        "id": "5-6-RKOvf3hb",
        "colab_type": "code",
        "colab": {}
      },
      "source": [
        "#Your code goes here."
      ],
      "execution_count": 0,
      "outputs": []
    },
    {
      "cell_type": "markdown",
      "metadata": {
        "id": "CEd2p18vy7xA",
        "colab_type": "text"
      },
      "source": [
        "**3.5 Calculate the BMI for the DataFrame, by including a new column as BMI**\n",
        "\n",
        "Link to know the conversion of inch to meter : https://www.metric-conversions.org/length/inches-to-meters.htm\n",
        "\n",
        "Link to know the conversion of pound to kg : https://www.metric-conversions.org/weight/pounds-to-kilograms.htm\n",
        "\n",
        "Use this link to get the Metric BMI formula : https://www.thecalculatorsite.com/articles/health/bmi-formula-for-bmi-calculations.php"
      ]
    },
    {
      "cell_type": "code",
      "metadata": {
        "id": "OIFmDefNzL9L",
        "colab_type": "code",
        "colab": {}
      },
      "source": [
        "#Your code goes here."
      ],
      "execution_count": 0,
      "outputs": []
    },
    {
      "cell_type": "markdown",
      "metadata": {
        "id": "AY9uIXxx0sp1",
        "colab_type": "text"
      },
      "source": [
        "**3.6 Below you can find the information of the categories and BMI values, Use this to get the count of category for Obesity Class 2**\n",
        "\n",
        "* Underweight\t                         (<18.5)\n",
        "* Normal weight\t                      (18.5-24.9)\n",
        "* Overweight\t                           (25-29.9)\n",
        "* Obesity Class 1\t                    (30-34.9)\n",
        "* Obesity Class 2\t                    (35-39.9)\n",
        "* Extreme Obesity Class 3\t     (>40)"
      ]
    },
    {
      "cell_type": "code",
      "metadata": {
        "id": "lhtjvatQ1Ox7",
        "colab_type": "code",
        "colab": {}
      },
      "source": [
        "#Your code goes here."
      ],
      "execution_count": 0,
      "outputs": []
    }
  ]
}